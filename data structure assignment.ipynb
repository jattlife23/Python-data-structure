{
 "cells": [
  {
   "cell_type": "markdown",
   "id": "e31ab691-1409-4327-9bd9-44a264d41006",
   "metadata": {},
   "source": [
    "## 1.Discuss string slicing and provide example?"
   ]
  },
  {
   "cell_type": "markdown",
   "id": "6ea93196-4795-4304-a359-4b1b2b171334",
   "metadata": {},
   "source": [
    "### String slicing refers to accessing a portion (substring) of a string. In python strings are sequences of characters, and you can use the slicing technique to extract specific parts of the strings"
   ]
  },
  {
   "cell_type": "markdown",
   "id": "c86166b2-40b0-4324-ad4f-c06b0bacb29e",
   "metadata": {},
   "source": [
    "## ~ Syntax for string slicing is:"
   ]
  },
  {
   "cell_type": "code",
   "execution_count": null,
   "id": "4089143e-f593-4225-bcce-15654000a2b7",
   "metadata": {},
   "outputs": [],
   "source": [
    "string[start:end:step]"
   ]
  },
  {
   "cell_type": "markdown",
   "id": "dc700cd1-4380-49a3-ad2b-923b3f7a39c0",
   "metadata": {},
   "source": [
    "### ~ start: The index where the slice begins (inclusive).\n",
    "### ~ end: The index where the slice ends (exclusive).\n",
    "### ~ step: Specifies the step, or increment, between each index (optional)."
   ]
  },
  {
   "cell_type": "markdown",
   "id": "ccd0ca8a-34bc-4ea0-8fac-872193d94430",
   "metadata": {},
   "source": [
    "### Examples:"
   ]
  },
  {
   "cell_type": "markdown",
   "id": "4e1582e8-42ea-470e-8328-5aa63cb2b141",
   "metadata": {},
   "source": [
    "#### String for demonstration:"
   ]
  },
  {
   "cell_type": "markdown",
   "id": "1c055cd6-78a8-4517-9ff4-9d85ce815118",
   "metadata": {},
   "source": [
    "#### 1.Basic slicing (from index 0 to 4):"
   ]
  },
  {
   "cell_type": "code",
   "execution_count": 2,
   "id": "7ca44690-1b8b-438f-bcca-51ed964e997d",
   "metadata": {},
   "outputs": [],
   "source": [
    "text = \"Hello, Python!\""
   ]
  },
  {
   "cell_type": "code",
   "execution_count": 3,
   "id": "ea3037c5-7a92-4338-8ee5-5ace0387cbdf",
   "metadata": {},
   "outputs": [
    {
     "name": "stdout",
     "output_type": "stream",
     "text": [
      "Hello\n"
     ]
    }
   ],
   "source": [
    "print(text[0:5])"
   ]
  },
  {
   "cell_type": "markdown",
   "id": "a58674c3-3cf0-419e-ad1d-0681f856c7d0",
   "metadata": {},
   "source": [
    "#### 2.Slicing with negative index (last three characters):"
   ]
  },
  {
   "cell_type": "code",
   "execution_count": 4,
   "id": "9d8fcbf7-2c29-4960-9855-3142dffa1446",
   "metadata": {},
   "outputs": [
    {
     "name": "stdout",
     "output_type": "stream",
     "text": [
      "on!\n"
     ]
    }
   ],
   "source": [
    "print(text[-3:])"
   ]
  },
  {
   "cell_type": "markdown",
   "id": "7d7ff45e-7194-4a16-a60d-36d1d9c3cdad",
   "metadata": {},
   "source": [
    "#### 3.Slicing with a step (every second character):"
   ]
  },
  {
   "cell_type": "code",
   "execution_count": 6,
   "id": "67d89480-ff16-4087-9194-5e39ce577ec1",
   "metadata": {},
   "outputs": [
    {
     "name": "stdout",
     "output_type": "stream",
     "text": [
      "Hlo yhn\n"
     ]
    }
   ],
   "source": [
    "print(text[::2])"
   ]
  },
  {
   "cell_type": "markdown",
   "id": "6e4282bd-49f3-494a-b4ec-247ed565bc8e",
   "metadata": {},
   "source": [
    "#### 4.Reversing a string using slicing:"
   ]
  },
  {
   "cell_type": "code",
   "execution_count": 7,
   "id": "c60ea76d-5635-4fdb-baa4-45cf81a46429",
   "metadata": {},
   "outputs": [
    {
     "name": "stdout",
     "output_type": "stream",
     "text": [
      "!nohtyP ,olleH\n"
     ]
    }
   ],
   "source": [
    "print(text[::-1])"
   ]
  },
  {
   "cell_type": "markdown",
   "id": "fa7ace3a-91ba-4d10-bbe3-376dfb2f17e4",
   "metadata": {},
   "source": [
    "#### 5.Omitting the start and end (full string):"
   ]
  },
  {
   "cell_type": "code",
   "execution_count": 8,
   "id": "9a5dc91a-715b-4672-b4b6-df9352dbaad8",
   "metadata": {},
   "outputs": [
    {
     "name": "stdout",
     "output_type": "stream",
     "text": [
      "Hello, Python!\n"
     ]
    }
   ],
   "source": [
    "print(text[:])"
   ]
  },
  {
   "cell_type": "markdown",
   "id": "500e2887-f105-425f-a25b-4ff09673a86f",
   "metadata": {},
   "source": [
    "### String slicing provides a flexible way to access and manipulate parts of a string efficiently."
   ]
  },
  {
   "cell_type": "markdown",
   "id": "fde7a14a-f9ea-405a-8935-61038d94fbdf",
   "metadata": {},
   "source": [
    "## 2.Explain the key features of lists in python?"
   ]
  },
  {
   "cell_type": "markdown",
   "id": "1599477f-c66b-418c-a2d5-689cd0498a6b",
   "metadata": {},
   "source": [
    "### Lists in python are one of the most versatile and widely used data structures.They are mutable, ordered, and can store a variety of data types."
   ]
  },
  {
   "cell_type": "markdown",
   "id": "abe8e64e-dd02-4c9c-9d7d-d0c282035709",
   "metadata": {},
   "source": [
    "#### Key features of lists in python:"
   ]
  },
  {
   "cell_type": "markdown",
   "id": "1cfff778-0e43-47e9-a8f1-f43a328f20bf",
   "metadata": {},
   "source": [
    "#### 1. Ordered"
   ]
  },
  {
   "cell_type": "markdown",
   "id": "266e785a-7de2-45bc-a609-86370f1c7b03",
   "metadata": {},
   "source": [
    "#### ~Lists maintain the order of elements. Each element in the list is associated with an index starting from 0.\n",
    "#### ~Example:"
   ]
  },
  {
   "cell_type": "code",
   "execution_count": 13,
   "id": "fecf1c1e-a7fa-43cf-8c2f-10b653d7e86d",
   "metadata": {},
   "outputs": [
    {
     "name": "stdout",
     "output_type": "stream",
     "text": [
      "20\n"
     ]
    }
   ],
   "source": [
    "my_list = [10, 20, 30]\n",
    "print(my_list[1])"
   ]
  },
  {
   "cell_type": "markdown",
   "id": "8668a078-126d-4955-82dc-05ef251614d2",
   "metadata": {},
   "source": [
    "#### 2. Mutable"
   ]
  },
  {
   "cell_type": "markdown",
   "id": "78cce8ac-e55f-4a2d-b2fc-24d22e8da07e",
   "metadata": {},
   "source": [
    "#### ~Lists are mutable, meaning you can modify (add, update, or delete) elements after the list is created.\n",
    "#### ~Example:"
   ]
  },
  {
   "cell_type": "code",
   "execution_count": 14,
   "id": "4a9f797d-9110-469d-a94c-3c93ea7f69b7",
   "metadata": {},
   "outputs": [
    {
     "name": "stdout",
     "output_type": "stream",
     "text": [
      "[100, 2, 3]\n"
     ]
    }
   ],
   "source": [
    "my_list = [1, 2, 3]\n",
    "my_list[0] = 100      #Modify the first element\n",
    "print(my_list)        "
   ]
  },
  {
   "cell_type": "markdown",
   "id": "a3b28908-fda5-46dc-a842-a05b633daca8",
   "metadata": {},
   "source": [
    "#### 3. Heterogeneous Elements"
   ]
  },
  {
   "cell_type": "markdown",
   "id": "2e138d08-538d-4ef2-9163-ef9f64ecf6a8",
   "metadata": {},
   "source": [
    "#### ~Lists can contain elements of different data types, such as integers, strings, and even other lists (nested lists).\n",
    "#### ~Example:"
   ]
  },
  {
   "cell_type": "code",
   "execution_count": 16,
   "id": "cce48239-6814-400c-8b41-31fd4ece453c",
   "metadata": {},
   "outputs": [],
   "source": [
    "my_list = [1, \"apple\", 3.14, [2, 4]]"
   ]
  },
  {
   "cell_type": "markdown",
   "id": "8a124619-cfca-497c-846e-86fae3a1f931",
   "metadata": {},
   "source": [
    "#### 4. Dynamic Size"
   ]
  },
  {
   "cell_type": "markdown",
   "id": "33b48550-6f70-4544-881c-57fc9dc2814b",
   "metadata": {},
   "source": [
    "#### ~Lists can grow or shrink as needed. You can add elements using methods like append(), insert(), or extend() and remove them with remove(), pop(), or clear()."
   ]
  },
  {
   "cell_type": "markdown",
   "id": "702c2e05-17b5-4a9a-85d2-6187b71c207b",
   "metadata": {},
   "source": [
    "#### ~Example:"
   ]
  },
  {
   "cell_type": "code",
   "execution_count": 21,
   "id": "eb5d769b-e56b-4b75-aad7-2d9426795898",
   "metadata": {},
   "outputs": [
    {
     "name": "stdout",
     "output_type": "stream",
     "text": [
      "[1, 2, 3, 4]\n"
     ]
    }
   ],
   "source": [
    "my_list = [1, 2, 3]\n",
    "my_list.append(4)     # Adding an element\n",
    "print(my_list)"
   ]
  },
  {
   "cell_type": "markdown",
   "id": "cb62d0a8-e06a-472e-894e-138b6997f6b6",
   "metadata": {},
   "source": [
    "#### 5. Indexing and Slicing"
   ]
  },
  {
   "cell_type": "markdown",
   "id": "7ffa57bf-5ba1-4682-a0ac-81e469164357",
   "metadata": {},
   "source": [
    "#### ~You can access individual elements using their index or retrieve sublists using slicing.\n",
    "#### ~Example:"
   ]
  },
  {
   "cell_type": "code",
   "execution_count": 25,
   "id": "042239d0-93ad-4326-a5f8-97dab18e813d",
   "metadata": {},
   "outputs": [
    {
     "name": "stdout",
     "output_type": "stream",
     "text": [
      "20\n"
     ]
    }
   ],
   "source": [
    "my_list = [10, 20, 30, 40, 50]\n",
    "print(my_list[1])"
   ]
  },
  {
   "cell_type": "code",
   "execution_count": 26,
   "id": "d6035d31-4d9c-42dc-b520-d713121fbadd",
   "metadata": {},
   "outputs": [
    {
     "name": "stdout",
     "output_type": "stream",
     "text": [
      "[20, 30, 40]\n"
     ]
    }
   ],
   "source": [
    "print(my_list[1:4])"
   ]
  },
  {
   "cell_type": "markdown",
   "id": "76ae4df8-714b-4f1b-a24b-bb1499ea3b3c",
   "metadata": {},
   "source": [
    "#### 6. Iteration"
   ]
  },
  {
   "cell_type": "markdown",
   "id": "0b3445e8-78bc-4752-8de2-6fa9cb484f17",
   "metadata": {},
   "source": [
    "#### ~You can loop through elements in a list using loops like for or list comprehensions.\n",
    "#### ~Example:"
   ]
  },
  {
   "cell_type": "code",
   "execution_count": 28,
   "id": "27189520-b998-45be-a4ad-6f1469afb1a6",
   "metadata": {},
   "outputs": [
    {
     "name": "stdout",
     "output_type": "stream",
     "text": [
      "1\n",
      "2\n",
      "3\n"
     ]
    }
   ],
   "source": [
    "my_list = [1, 2, 3]\n",
    "for item in my_list:\n",
    "    print(item)"
   ]
  },
  {
   "cell_type": "markdown",
   "id": "764d80f5-bfcd-417b-a97d-3c69d3b88345",
   "metadata": {},
   "source": [
    "#### 7. Built-in Functions and Methods"
   ]
  },
  {
   "cell_type": "markdown",
   "id": "23a849cf-48ec-43a5-9f28-65be2f1f7c3c",
   "metadata": {},
   "source": [
    "#### ~Lists come with several built-in methods (e.g., append(), remove(), sort(), reverse() ) and functions(e.g., len(), max(), min(), sum() ).\n",
    "#### ~Example"
   ]
  },
  {
   "cell_type": "code",
   "execution_count": 29,
   "id": "3eb9e5d8-fa4d-417a-9c78-f6bd42bff1f8",
   "metadata": {},
   "outputs": [
    {
     "name": "stdout",
     "output_type": "stream",
     "text": [
      "[1, 1, 3, 4, 5]\n"
     ]
    }
   ],
   "source": [
    "my_list = [3, 1, 4, 1, 5]\n",
    "my_list.sort()            # Sort the list\n",
    "print(my_list)"
   ]
  },
  {
   "cell_type": "markdown",
   "id": "d33cb102-b2b5-4933-9680-678ff289c6be",
   "metadata": {},
   "source": [
    "#### 8. Nested Lists"
   ]
  },
  {
   "cell_type": "markdown",
   "id": "6f2f350a-ad7f-4541-9fb1-1d68e6dff50f",
   "metadata": {},
   "source": [
    "#### ~Lists can contain other lists, allowing you to create multi-dimensional lists (e.g., matrices).\n",
    "#### ~Example:"
   ]
  },
  {
   "cell_type": "code",
   "execution_count": 31,
   "id": "756a7d49-abaa-489f-9a89-3543a8a181d2",
   "metadata": {},
   "outputs": [
    {
     "name": "stdout",
     "output_type": "stream",
     "text": [
      "3\n"
     ]
    }
   ],
   "source": [
    "nested_list = [[1, 2], [3, 4], [5, 6]]\n",
    "print(nested_list[1][0])"
   ]
  },
  {
   "cell_type": "markdown",
   "id": "9e5057f4-1fef-4d05-b90d-5fa5a78d16a9",
   "metadata": {},
   "source": [
    "#### 9. List Comprehensions"
   ]
  },
  {
   "cell_type": "markdown",
   "id": "9c697dc3-231f-4fc7-917e-23d67db2dfbc",
   "metadata": {},
   "source": [
    "#### ~Python provides a concise way to create lists using list comprehensions, which can generate new lists based on existing ones.\n",
    "#### ~Example:"
   ]
  },
  {
   "cell_type": "code",
   "execution_count": 32,
   "id": "a5ae69ce-a4b6-4ac3-a1e9-f2d8614045bb",
   "metadata": {},
   "outputs": [
    {
     "name": "stdout",
     "output_type": "stream",
     "text": [
      "[0, 1, 4, 9, 16]\n"
     ]
    }
   ],
   "source": [
    "squares = [x**2 for x in range(5)]\n",
    "print(squares)"
   ]
  },
  {
   "cell_type": "markdown",
   "id": "89b477f3-c17c-4990-aa6a-40846c564374",
   "metadata": {},
   "source": [
    "#### 10. Duplicates"
   ]
  },
  {
   "cell_type": "markdown",
   "id": "407ec5e0-2442-4587-9734-b4db6b5e874e",
   "metadata": {},
   "source": [
    "#### ~Lists can have duplicate elements, as there are no restrictions on value uniqueness.\n",
    "#### ~Example:"
   ]
  },
  {
   "cell_type": "code",
   "execution_count": 34,
   "id": "3e602e41-216d-45c3-b5f0-89d6cb7d07ac",
   "metadata": {},
   "outputs": [],
   "source": [
    "my_list = [1, 2, 3, 4]"
   ]
  },
  {
   "cell_type": "markdown",
   "id": "36a267e8-8fc2-4138-9d82-2b0990acb8a2",
   "metadata": {},
   "source": [
    "#### Python lists are powerful, flexible, and easy to work with, making them ideal for many programming tasks."
   ]
  },
  {
   "cell_type": "markdown",
   "id": "7c9adbec-91c4-4aa1-a12d-b08a580c4048",
   "metadata": {},
   "source": [
    "### 3.Describe how to access, modify, and delete elements in a list with examples?"
   ]
  },
  {
   "cell_type": "markdown",
   "id": "0b725ff9-c611-4d99-8504-4c98cc2aabb2",
   "metadata": {},
   "source": [
    "#### ~In Python, lists are mutable, meaning you can access, modify, and delete elements."
   ]
  },
  {
   "cell_type": "markdown",
   "id": "4bd4b868-c057-4696-9a8b-5d1f088d2b23",
   "metadata": {},
   "source": [
    "#### Operations with examples:"
   ]
  },
  {
   "cell_type": "markdown",
   "id": "85045832-4415-44ea-a647-288ed4c57668",
   "metadata": {},
   "source": [
    "#### 1. Accessing elements in a list"
   ]
  },
  {
   "cell_type": "markdown",
   "id": "79900098-4adc-4408-9638-49af24d9e6bf",
   "metadata": {},
   "source": [
    "#### ~You can access elements in a list using their index. Indexing starts at 0 for the first element.\n",
    "#### ~Example:"
   ]
  },
  {
   "cell_type": "code",
   "execution_count": 36,
   "id": "7a31f053-f668-45ae-a148-e62e5fee9bd3",
   "metadata": {},
   "outputs": [],
   "source": [
    "my_list = [10, 20, 30, 40, 50]"
   ]
  },
  {
   "cell_type": "code",
   "execution_count": 37,
   "id": "79312865-ab83-43d6-8a81-3732230f8ea6",
   "metadata": {},
   "outputs": [
    {
     "name": "stdout",
     "output_type": "stream",
     "text": [
      "10\n"
     ]
    }
   ],
   "source": [
    "# Access the first element\n",
    "print(my_list[0])"
   ]
  },
  {
   "cell_type": "code",
   "execution_count": 38,
   "id": "91a3ea69-9ee5-48ea-b42c-f7bf6defa067",
   "metadata": {},
   "outputs": [
    {
     "name": "stdout",
     "output_type": "stream",
     "text": [
      "30\n"
     ]
    }
   ],
   "source": [
    "# Access the third element\n",
    "print(my_list[2])"
   ]
  },
  {
   "cell_type": "code",
   "execution_count": 39,
   "id": "4d2a8b60-928d-4751-99f5-119472ad4e86",
   "metadata": {},
   "outputs": [
    {
     "name": "stdout",
     "output_type": "stream",
     "text": [
      "50\n"
     ]
    }
   ],
   "source": [
    "# Access the last element using negative indexing\n",
    "print(my_list[-1])"
   ]
  },
  {
   "cell_type": "markdown",
   "id": "6acad9ea-cb62-4fc6-9c90-39b2a328fbe6",
   "metadata": {},
   "source": [
    "#### 2. Modifying elements in a list"
   ]
  },
  {
   "cell_type": "markdown",
   "id": "1dc653bf-56cd-4eeb-a362-ecb931613724",
   "metadata": {},
   "source": [
    "#### ~You can modify a specific element in a list by assigning a new value to its index.\n",
    "#### ~Example:"
   ]
  },
  {
   "cell_type": "code",
   "execution_count": 40,
   "id": "72fcad4e-0bc8-45fa-9d29-2805a7121dea",
   "metadata": {},
   "outputs": [],
   "source": [
    "my_list = [10, 20, 30, 40, 50]"
   ]
  },
  {
   "cell_type": "code",
   "execution_count": 41,
   "id": "11599302-c6e7-4003-8af9-b435f289dfd6",
   "metadata": {},
   "outputs": [
    {
     "name": "stdout",
     "output_type": "stream",
     "text": [
      "[10, 25, 30, 40, 50]\n"
     ]
    }
   ],
   "source": [
    "# Modify the second element\n",
    "my_list[1] = 25\n",
    "print(my_list)"
   ]
  },
  {
   "cell_type": "code",
   "execution_count": 42,
   "id": "fc2f3566-582b-4e8a-8f19-2704451e1739",
   "metadata": {},
   "outputs": [
    {
     "name": "stdout",
     "output_type": "stream",
     "text": [
      "[10, 25, 30, 40, 55]\n"
     ]
    }
   ],
   "source": [
    "# Modify the last element\n",
    "my_list[-1] = 55\n",
    "print(my_list)"
   ]
  },
  {
   "cell_type": "markdown",
   "id": "f0689857-e7e5-49fc-b2a9-148e6bd7f2de",
   "metadata": {},
   "source": [
    "#### 3.Deleting elements from a list"
   ]
  },
  {
   "cell_type": "markdown",
   "id": "b46f032e-38dc-4db7-9f60-4f5d7f190022",
   "metadata": {},
   "source": [
    "#### ~You can delete elements from a list using several methods:"
   ]
  },
  {
   "cell_type": "markdown",
   "id": "28b60ea0-8005-4b02-b4e5-4b003a880736",
   "metadata": {},
   "source": [
    "#### .del: Deletes an element by its index.\n",
    "#### .remove(): Deletes the first occurrence of a specific value.\n",
    "#### .pop(): Removes and returns the element at a given index(or the last element if no index is specified)"
   ]
  },
  {
   "cell_type": "markdown",
   "id": "7916cc4a-015e-4d89-af11-9a66072dbaa7",
   "metadata": {},
   "source": [
    "#### Example:"
   ]
  },
  {
   "cell_type": "code",
   "execution_count": 14,
   "id": "c64f1f29-b86f-46d8-b4bc-17db63831589",
   "metadata": {},
   "outputs": [],
   "source": [
    "my_list = [10, 20, 30, 40, 50]"
   ]
  },
  {
   "cell_type": "code",
   "execution_count": 15,
   "id": "1ad7bdd1-0407-4ea4-8ac8-395873777a73",
   "metadata": {},
   "outputs": [
    {
     "name": "stdout",
     "output_type": "stream",
     "text": [
      "[10, 30, 40, 50]\n"
     ]
    }
   ],
   "source": [
    "# Delete by index del\n",
    "del my_list[1]\n",
    "print(my_list)"
   ]
  },
  {
   "cell_type": "code",
   "execution_count": 16,
   "id": "e0ce3547-37e2-444c-9112-5796dffb61eb",
   "metadata": {},
   "outputs": [
    {
     "name": "stdout",
     "output_type": "stream",
     "text": [
      "[10, 40, 50]\n"
     ]
    }
   ],
   "source": [
    "# Remove an element by value\n",
    "my_list.remove(30)\n",
    "print(my_list)"
   ]
  },
  {
   "cell_type": "code",
   "execution_count": 17,
   "id": "25002170-60f5-495f-9aec-8370899ea0ce",
   "metadata": {},
   "outputs": [
    {
     "name": "stdout",
     "output_type": "stream",
     "text": [
      "50\n"
     ]
    }
   ],
   "source": [
    "# Remove and return the last element using pop()\n",
    "last_element = my_list.pop()\n",
    "print(last_element)"
   ]
  },
  {
   "cell_type": "code",
   "execution_count": 18,
   "id": "0c9d014a-73e0-4b05-910c-8497713c6b9b",
   "metadata": {},
   "outputs": [
    {
     "name": "stdout",
     "output_type": "stream",
     "text": [
      "[10, 40]\n"
     ]
    }
   ],
   "source": [
    "print(my_list)"
   ]
  },
  {
   "cell_type": "code",
   "execution_count": 19,
   "id": "580d2099-fd1d-4688-a185-d54e891b70bf",
   "metadata": {},
   "outputs": [
    {
     "name": "stdout",
     "output_type": "stream",
     "text": [
      "40\n"
     ]
    }
   ],
   "source": [
    "# Remove and return element at a specific index\n",
    "second_element = my_list.pop(1)\n",
    "print(second_element)"
   ]
  },
  {
   "cell_type": "code",
   "execution_count": 20,
   "id": "a2ef7168-8ebb-4bb4-be0f-9842456d45c6",
   "metadata": {},
   "outputs": [
    {
     "name": "stdout",
     "output_type": "stream",
     "text": [
      "[10]\n"
     ]
    }
   ],
   "source": [
    "print(my_list)"
   ]
  },
  {
   "cell_type": "markdown",
   "id": "49dc021b-ccc6-495e-8914-cb25b0c41244",
   "metadata": {},
   "source": [
    "### 4.Compare and contrast tuples and lists with examples?"
   ]
  },
  {
   "cell_type": "markdown",
   "id": "f194045b-995d-4e10-88a0-9fe7a3bac66c",
   "metadata": {},
   "source": [
    "#### ~Tuples and lists are both sequence data types in python, but they differ in several important ways."
   ]
  },
  {
   "cell_type": "markdown",
   "id": "32898140-f173-4e7f-adc7-e1124c88f50a",
   "metadata": {},
   "source": [
    "#### Features with examples"
   ]
  },
  {
   "cell_type": "markdown",
   "id": "cea2688f-c3a7-4c3a-8992-dfc2951d998e",
   "metadata": {},
   "source": [
    "#### 1. Mutability"
   ]
  },
  {
   "cell_type": "markdown",
   "id": "e3c3b4ad-822a-40fa-9145-84c2538d6b8d",
   "metadata": {},
   "source": [
    "#### ~Tuples are immutable, meaning once a tuple is created, its elements cannot be changed, added, or removed.\n",
    "#### ~Lists are mutable, meaning you can change, add, or remove elements after the list is created."
   ]
  },
  {
   "cell_type": "markdown",
   "id": "a3c527f8-db94-4561-9a54-c5a21303748e",
   "metadata": {},
   "source": [
    "#### Example:"
   ]
  },
  {
   "cell_type": "code",
   "execution_count": 11,
   "id": "32eadcb2-e0eb-4687-96cb-537d8083ce53",
   "metadata": {},
   "outputs": [],
   "source": [
    "# Tuple (Immutable)\n",
    "t = (1, 2, 3)\n",
    "# t[0] = 4  #This would raise an error because tuples can't be changed."
   ]
  },
  {
   "cell_type": "code",
   "execution_count": 8,
   "id": "927aac8d-06a2-4fb8-a7fa-b9e8a2b2bc5c",
   "metadata": {},
   "outputs": [
    {
     "name": "stdout",
     "output_type": "stream",
     "text": [
      "[4, 2, 3]\n"
     ]
    }
   ],
   "source": [
    "# List (Mutable)\n",
    "l = [1, 2, 3]\n",
    "l[0] = 4  #This works because listd are mutable.\n",
    "print(l)  "
   ]
  },
  {
   "cell_type": "markdown",
   "id": "f6ff988b-6db9-4e43-9333-2833d20c11ba",
   "metadata": {},
   "source": [
    "#### 2. Syntax"
   ]
  },
  {
   "cell_type": "markdown",
   "id": "e559ed3c-a260-4823-9e62-0c4b6c4d8e2c",
   "metadata": {},
   "source": [
    "#### ~Tuples are created using parentheses( ) or just separating values by commas.\n",
    "#### ~Lists are created using square brackets[ ]."
   ]
  },
  {
   "cell_type": "markdown",
   "id": "365f5226-31b9-4dd9-8217-4cf91ea9be7c",
   "metadata": {},
   "source": [
    "#### Example:"
   ]
  },
  {
   "cell_type": "code",
   "execution_count": 13,
   "id": "23673c98-26fc-4e12-abd6-a2b22866f35f",
   "metadata": {},
   "outputs": [],
   "source": [
    "# Tuple\n",
    "t = (1, 2, 3)"
   ]
  },
  {
   "cell_type": "code",
   "execution_count": null,
   "id": "79dc1e84-e70e-45a3-acef-ee6b84c6b8a5",
   "metadata": {},
   "outputs": [],
   "source": [
    "# List\n",
    "l = [1, 2, 3]"
   ]
  },
  {
   "cell_type": "markdown",
   "id": "c9e14949-368f-482b-871f-c60390bc675a",
   "metadata": {},
   "source": [
    "#### 3. Use cases"
   ]
  },
  {
   "cell_type": "markdown",
   "id": "057d1442-ce0d-49a5-bef5-9fa5781553de",
   "metadata": {},
   "source": [
    "#### ~Tuples are generally used for storing a collection of items that should not change throughout the program (e.g., coordinates, configurations).\n",
    "#### ~Lists are used when you have a collection of items that may change or need modification during the execution of a program."
   ]
  },
  {
   "cell_type": "code",
   "execution_count": 15,
   "id": "0e2556cb-0f56-4c6f-8dca-2af74d98209c",
   "metadata": {},
   "outputs": [],
   "source": [
    "#### Example"
   ]
  },
  {
   "cell_type": "code",
   "execution_count": 16,
   "id": "d08f1eb3-7a18-46dd-a701-7aea4e6d6839",
   "metadata": {},
   "outputs": [],
   "source": [
    "# Tuple for coordinates (Immutable)\n",
    "coordinates = (10.0, 20.0)"
   ]
  },
  {
   "cell_type": "code",
   "execution_count": 20,
   "id": "858c7e8b-c210-4c64-b811-dac460dd80a8",
   "metadata": {},
   "outputs": [
    {
     "name": "stdout",
     "output_type": "stream",
     "text": [
      "['milk', 'eggs', 'bread', 'butter']\n"
     ]
    }
   ],
   "source": [
    "# List for shopping list (Mutable)\n",
    "shopping_list = [\"milk\", \"eggs\", \"bread\"]\n",
    "shopping_list.append(\"butter\")# Lists can be modified\n",
    "print(shopping_list)"
   ]
  },
  {
   "cell_type": "markdown",
   "id": "5bf16a28-ff62-4957-a15c-55fa2f6f2621",
   "metadata": {},
   "source": [
    "#### 4.Performance"
   ]
  },
  {
   "cell_type": "markdown",
   "id": "451be8bd-4fe5-4c07-98e1-3b0a6f8b1c40",
   "metadata": {},
   "source": [
    "#### ~Tuples are generally faster than lists for iterating or accessing elements because of their immutability\n",
    "#### ~Lists are slower since they allow modifications and have a larger overhead to handle dynamic resizing"
   ]
  },
  {
   "cell_type": "code",
   "execution_count": 22,
   "id": "ddee3f45-8d5f-4f2f-8d7f-fdbe0378fae6",
   "metadata": {},
   "outputs": [],
   "source": [
    "#### Example:"
   ]
  },
  {
   "cell_type": "code",
   "execution_count": 24,
   "id": "813e543e-a22a-49aa-871b-99a529c59c3a",
   "metadata": {},
   "outputs": [],
   "source": [
    "import timeit\n",
    "\n",
    "# creating a list and tuple\n",
    "list_time = timeit.timeit(stmt=\"[1, 2, 3, 4, 5]\", number=1000000)\n",
    "Tuple_time = timeit.timeit(stmt=\"[1, 2, 3, 4, 5]\", number=1000000)"
   ]
  },
  {
   "cell_type": "code",
   "execution_count": 30,
   "id": "4b5368ec-a04a-441b-8030-66e051c71215",
   "metadata": {},
   "outputs": [
    {
     "name": "stdout",
     "output_type": "stream",
     "text": [
      "List time: 0.06305019999854267\n"
     ]
    }
   ],
   "source": [
    "print(\"List time:\", list_time)    # Usually slower\n",
    "print(\"Tuple time:\", tuple_time)  # Usually faster"
   ]
  },
  {
   "cell_type": "markdown",
   "id": "e14ff9b4-aea3-4080-a991-868fdc7d7270",
   "metadata": {},
   "source": [
    "### 5.Describe the key features of sets and provide examples of their use?"
   ]
  },
  {
   "cell_type": "markdown",
   "id": "8c03a504-64c8-4302-9e52-b9f3718164e5",
   "metadata": {},
   "source": [
    "#### Key features of sets in python"
   ]
  },
  {
   "cell_type": "markdown",
   "id": "93ceb0b3-da08-4f13-838b-5927a4542d45",
   "metadata": {},
   "source": [
    "#### 1. Unordered"
   ]
  },
  {
   "cell_type": "markdown",
   "id": "df104813-53b2-49d9-934a-51f1f25baf01",
   "metadata": {},
   "source": [
    "#### ~Sets are unordered collections, meaning the elements in a set do not have a defined or fixed order."
   ]
  },
  {
   "cell_type": "markdown",
   "id": "66182c28-b663-407f-a752-701b346cde54",
   "metadata": {},
   "source": [
    "#### Example:"
   ]
  },
  {
   "cell_type": "code",
   "execution_count": 34,
   "id": "3aa1db16-d784-4d68-8c9f-775445c12e03",
   "metadata": {},
   "outputs": [
    {
     "name": "stdout",
     "output_type": "stream",
     "text": [
      "{1, 2, 3, 4}\n"
     ]
    }
   ],
   "source": [
    "my_set = {3, 1, 4, 2}\n",
    "print(my_set)"
   ]
  },
  {
   "cell_type": "markdown",
   "id": "112293ec-ea9c-4cb8-ab0a-123c9909a4d3",
   "metadata": {},
   "source": [
    "#### 2. No Duplicates"
   ]
  },
  {
   "cell_type": "markdown",
   "id": "bba5c5c2-8f13-4a18-aefa-60afe4b9c17a",
   "metadata": {},
   "source": [
    "#### ~Sets do not allow duplicate elements. If you try to add the same element multiple times, it will only appear once."
   ]
  },
  {
   "cell_type": "markdown",
   "id": "89dc4a9a-d143-40f5-986b-1e6147b722e9",
   "metadata": {},
   "source": [
    "#### Example:"
   ]
  },
  {
   "cell_type": "code",
   "execution_count": 38,
   "id": "961607d2-0394-41e4-ad75-ba13b3f1849b",
   "metadata": {},
   "outputs": [
    {
     "name": "stdout",
     "output_type": "stream",
     "text": [
      "{1, 2, 3, 4}\n"
     ]
    }
   ],
   "source": [
    "my_set = {1, 2, 2, 3, 4}\n",
    "print(my_set)"
   ]
  },
  {
   "cell_type": "markdown",
   "id": "4584dd3c-f15c-441f-b288-0e73eb913136",
   "metadata": {},
   "source": [
    "#### 3. Mutable"
   ]
  },
  {
   "cell_type": "markdown",
   "id": "a3306238-7823-491f-a482-9f5d4ddba378",
   "metadata": {},
   "source": [
    "#### ~Sets are mutable, meaning you can add or remove elements after the set is created."
   ]
  },
  {
   "cell_type": "markdown",
   "id": "69f5091b-835b-4ea8-af4b-d50cb7b721c3",
   "metadata": {},
   "source": [
    "#### Example:"
   ]
  },
  {
   "cell_type": "code",
   "execution_count": 42,
   "id": "e10218d2-3a2f-43a8-a40a-ed078080ae25",
   "metadata": {},
   "outputs": [
    {
     "name": "stdout",
     "output_type": "stream",
     "text": [
      "{1, 2, 3, 4}\n"
     ]
    }
   ],
   "source": [
    "my_set = {1, 2, 3}\n",
    "my_set.add(4)       # Adding a new element\n",
    "print(my_set)"
   ]
  },
  {
   "cell_type": "code",
   "execution_count": 43,
   "id": "9b8c652d-c24b-42de-968c-bb32fc5654c3",
   "metadata": {},
   "outputs": [
    {
     "name": "stdout",
     "output_type": "stream",
     "text": [
      "{1, 3, 4}\n"
     ]
    }
   ],
   "source": [
    "my_set.remove(2)   #  Removing an element\n",
    "print(my_set)"
   ]
  },
  {
   "cell_type": "markdown",
   "id": "1d8b4227-2f14-4a4e-be95-4f2e18454c66",
   "metadata": {},
   "source": [
    "#### No Indexing"
   ]
  },
  {
   "cell_type": "markdown",
   "id": "cc01bbf0-a4dd-46f2-b446-5954fe0c7528",
   "metadata": {},
   "source": [
    "#### ~Since sets are unordered, they do not support indexing or slicing."
   ]
  },
  {
   "cell_type": "markdown",
   "id": "68e59f3f-8946-43f3-b9d6-4402305c36da",
   "metadata": {},
   "source": [
    "#### Example:"
   ]
  },
  {
   "cell_type": "code",
   "execution_count": 47,
   "id": "796d9f46-b32b-4737-890a-dc1bec3e9fbc",
   "metadata": {},
   "outputs": [
    {
     "ename": "TypeError",
     "evalue": "'set' object is not subscriptable",
     "output_type": "error",
     "traceback": [
      "\u001b[0;31m---------------------------------------------------------------------------\u001b[0m",
      "\u001b[0;31mTypeError\u001b[0m                                 Traceback (most recent call last)",
      "Cell \u001b[0;32mIn[47], line 2\u001b[0m\n\u001b[1;32m      1\u001b[0m my_set \u001b[38;5;241m=\u001b[39m {\u001b[38;5;241m1\u001b[39m, \u001b[38;5;241m2\u001b[39m, \u001b[38;5;241m3\u001b[39m}\n\u001b[0;32m----> 2\u001b[0m \u001b[38;5;28mprint\u001b[39m(\u001b[43mmy_set\u001b[49m\u001b[43m[\u001b[49m\u001b[38;5;241;43m0\u001b[39;49m\u001b[43m]\u001b[49m)\n",
      "\u001b[0;31mTypeError\u001b[0m: 'set' object is not subscriptable"
     ]
    }
   ],
   "source": [
    "my_set = {1, 2, 3}\n",
    "print(my_set[0])       # This will raise a TypeError (no indexing)"
   ]
  },
  {
   "cell_type": "markdown",
   "id": "718a71bd-daaf-4132-92f4-9300f8fa93a8",
   "metadata": {},
   "source": [
    "#### Example use cases of sets"
   ]
  },
  {
   "cell_type": "markdown",
   "id": "4a645f7b-b5d4-4648-ab4d-ef7977c3b3ab",
   "metadata": {},
   "source": [
    "#### 1. Removing Duplicates from a list"
   ]
  },
  {
   "cell_type": "markdown",
   "id": "ce17e803-6de3-4ca0-9afc-289c406814b2",
   "metadata": {},
   "source": [
    "#### ~Since sets automatically discard duplicates, you can use them to remove duplicate values from a list."
   ]
  },
  {
   "cell_type": "markdown",
   "id": "e0393e87-979e-425e-8512-5eb9adb0f2ea",
   "metadata": {},
   "source": [
    "#### Example:"
   ]
  },
  {
   "cell_type": "code",
   "execution_count": 3,
   "id": "d38c2a60-820c-4016-ac30-768d8a5ae7b3",
   "metadata": {},
   "outputs": [
    {
     "name": "stdout",
     "output_type": "stream",
     "text": [
      "{1, 2, 3, 4, 5}\n"
     ]
    }
   ],
   "source": [
    "my_list = [1, 2, 2, 3, 4, 4, 5]\n",
    "unique_items = set(my_list)\n",
    "print(unique_items) "
   ]
  },
  {
   "cell_type": "code",
   "execution_count": 4,
   "id": "bc864b15-c329-4a72-b21b-7fec73187af9",
   "metadata": {},
   "outputs": [],
   "source": [
    "#### 2. Membership Testing"
   ]
  },
  {
   "cell_type": "code",
   "execution_count": 5,
   "id": "e3652f8e-25aa-49f0-be8a-c34922a47dc7",
   "metadata": {},
   "outputs": [],
   "source": [
    "#### ~Sets are efficient for checking whether a value exists in a collection of unique items."
   ]
  },
  {
   "cell_type": "markdown",
   "id": "8aba4c95-15fd-4ff9-916b-4f16772e72a5",
   "metadata": {},
   "source": [
    "Example:"
   ]
  },
  {
   "cell_type": "code",
   "execution_count": 7,
   "id": "10b5fcd8-4ae8-4070-93b8-406cb3fe27d5",
   "metadata": {},
   "outputs": [
    {
     "name": "stdout",
     "output_type": "stream",
     "text": [
      "Access granted\n"
     ]
    }
   ],
   "source": [
    "allowed_ids = {101, 102, 103}\n",
    "user_id = 101\n",
    "if user_id in allowed_ids:\n",
    "    print(\"Access granted\")"
   ]
  },
  {
   "cell_type": "markdown",
   "id": "285cb826-4d07-4148-991a-f9545fd14a65",
   "metadata": {},
   "source": [
    "### 6. Discuss the use cases of tuples and sets in python programming?"
   ]
  },
  {
   "cell_type": "markdown",
   "id": "3086f7ce-6100-4a3c-b064-87621b02fede",
   "metadata": {},
   "source": [
    "#### ~Tuples and sets are two important data structures that serve different purposes. "
   ]
  },
  {
   "cell_type": "markdown",
   "id": "1e8829c7-2b40-4a88-b185-2575580f409a",
   "metadata": {},
   "source": [
    "#### Tuples:"
   ]
  },
  {
   "cell_type": "markdown",
   "id": "071e56bd-1420-4877-bc74-082013611fe8",
   "metadata": {},
   "source": [
    "#### A tuple is an immutable, ordered collection of elements. Once created, its elements cannot be changed, added, or removes."
   ]
  },
  {
   "cell_type": "markdown",
   "id": "5ae3d4e5-b050-4980-b4ea-e9ba2c87e412",
   "metadata": {},
   "source": [
    "#### Use cases of tuples:"
   ]
  },
  {
   "cell_type": "markdown",
   "id": "f8327209-3b28-421d-949e-570cb468cc2d",
   "metadata": {},
   "source": [
    "#### 1. Storing fixed collections:\n",
    "#### ~ Since tuples are immutable, they are used to store data that must remain constant throughout the program.\n",
    "#### ~Example: Storing coordinates of a point, like coordinates = (10, 20)."
   ]
  },
  {
   "cell_type": "markdown",
   "id": "b9a7f0b3-b3b8-4374-8fa7-1ea49503313a",
   "metadata": {},
   "source": [
    "#### 2. Return multiple values from functions:"
   ]
  },
  {
   "cell_type": "markdown",
   "id": "4c1007a9-820e-493c-a29c-ccd0e055a0e2",
   "metadata": {},
   "source": [
    "#### ~Functions can return multiple values as a tuple.\n",
    "#### ~Example:"
   ]
  },
  {
   "cell_type": "code",
   "execution_count": 10,
   "id": "1b69d72c-d836-44fd-b505-846ab3890a0e",
   "metadata": {},
   "outputs": [],
   "source": [
    "def get_user_info():\n",
    "    return (\"John\", 25)\n",
    "name, age = get_user_info()"
   ]
  },
  {
   "cell_type": "markdown",
   "id": "81e051df-5320-48e3-9339-7436005f64b6",
   "metadata": {},
   "source": [
    "#### Sets:"
   ]
  },
  {
   "cell_type": "markdown",
   "id": "22df9f3c-b6d1-4764-9d44-1137b2ddc36a",
   "metadata": {},
   "source": [
    "#### A set is an unordered collection of unique elements. It does not allow duplicate entries and it is mutable."
   ]
  },
  {
   "cell_type": "markdown",
   "id": "1a11a06e-870d-4d4d-ae02-33a4af03364e",
   "metadata": {},
   "source": [
    "#### Use cases of sets:\n"
   ]
  },
  {
   "cell_type": "markdown",
   "id": "21e9cb44-e535-4f5f-b789-246213d59c1c",
   "metadata": {},
   "source": [
    "#### 1. Removing duplicates from a list:\n",
    "#### ~When you need to eliminate duplicates, converting a list to a set is a simple way to ensure all elements are unique.\n",
    "#### ~Example:"
   ]
  },
  {
   "cell_type": "code",
   "execution_count": 24,
   "id": "fe25bbbd-d583-45cb-9677-3277fbafcddb",
   "metadata": {},
   "outputs": [],
   "source": [
    "numbers = [1, 2, 2, 3, 4, 4, 5]                                                                                                            \n",
    "unique_numbers = set(numbers)"
   ]
  },
  {
   "cell_type": "code",
   "execution_count": 25,
   "id": "f0407b0f-6442-4cf1-80f8-7d99a053d909",
   "metadata": {},
   "outputs": [
    {
     "name": "stdout",
     "output_type": "stream",
     "text": [
      "{1, 2, 3, 4, 5}\n"
     ]
    }
   ],
   "source": [
    "print(unique_numbers)"
   ]
  },
  {
   "cell_type": "markdown",
   "id": "ef3ed0cc-65a5-48b7-83fb-0e800ba49256",
   "metadata": {},
   "source": [
    "#### 2. Membership testing:\n",
    "#### ~Sets allow for fast membership testing (checking if an element is in a set).\n",
    "#### ~Example:"
   ]
  },
  {
   "cell_type": "code",
   "execution_count": 28,
   "id": "d6a13935-79f9-4228-908b-0586b7a35f6a",
   "metadata": {},
   "outputs": [
    {
     "name": "stdout",
     "output_type": "stream",
     "text": [
      "banana is in the set.\n"
     ]
    }
   ],
   "source": [
    "fruits = {\"apple\", \"banana\", \"cherry\"}\n",
    "if \"banana\" in fruits:\n",
    "    print(\"banana is in the set.\")"
   ]
  },
  {
   "cell_type": "markdown",
   "id": "eb8698c1-24c4-4d28-902b-ce60e0646575",
   "metadata": {},
   "source": [
    "### 7. Describe how to add, modify, and delete items in a dictionary with examples?"
   ]
  },
  {
   "cell_type": "markdown",
   "id": "47a633af-593c-457a-a24a-20b89091b6ac",
   "metadata": {},
   "source": [
    "#### ~ Dictionaries are mutable collections of key-vakue pairs, where each key is unique.\n",
    "#### ~ You can add, modify, and delete items easily."
   ]
  },
  {
   "cell_type": "markdown",
   "id": "4fb0837c-9ee3-49e5-8ee5-c2669d3cc4a3",
   "metadata": {},
   "source": [
    "#### 1. Adding items to a dictionary\n",
    "#### ~You can add items by assigning a value to a new key.\n",
    "#### ~Example"
   ]
  },
  {
   "cell_type": "code",
   "execution_count": 29,
   "id": "3b131c84-578b-4be7-a3e5-c577478e1f6a",
   "metadata": {},
   "outputs": [],
   "source": [
    "# Create a dictionary\n",
    "student = {\"name\": \"John\", \"age\": 21}"
   ]
  },
  {
   "cell_type": "code",
   "execution_count": 30,
   "id": "5147124c-83e5-4e61-8891-6aed4288c400",
   "metadata": {},
   "outputs": [],
   "source": [
    "# Add a new key-value pair\n",
    "student[\"major\"] = \"Computer science\""
   ]
  },
  {
   "cell_type": "code",
   "execution_count": 31,
   "id": "40c2f933-3ef2-4ce8-a2c9-3976245fe39e",
   "metadata": {},
   "outputs": [
    {
     "name": "stdout",
     "output_type": "stream",
     "text": [
      "{'name': 'John', 'age': 21, 'major': 'Computer science'}\n"
     ]
    }
   ],
   "source": [
    "print(student)"
   ]
  },
  {
   "cell_type": "markdown",
   "id": "095677ea-4053-4e45-86d3-d035bc9cb212",
   "metadata": {},
   "source": [
    "#### we added the key \"major\" with the value \"Computer science\" to the student dictionary."
   ]
  },
  {
   "cell_type": "markdown",
   "id": "d6b510e4-519b-45d8-aeac-bf2bcb265bab",
   "metadata": {},
   "source": [
    "#### 2. Modifying items in a dictionary"
   ]
  },
  {
   "cell_type": "markdown",
   "id": "a058c79e-9341-4148-8d71-89817a019291",
   "metadata": {},
   "source": [
    "#### ~To modify an existing item, assign a new value to an existing key.\n",
    "#### ~Example:"
   ]
  },
  {
   "cell_type": "code",
   "execution_count": 34,
   "id": "298bc0ac-e132-446c-8869-8080a270e517",
   "metadata": {},
   "outputs": [],
   "source": [
    "# Modify the value of an existing key\n",
    "student[\"age\"] = 22"
   ]
  },
  {
   "cell_type": "code",
   "execution_count": 35,
   "id": "8e1440b9-c873-4faa-81d0-416445f8b016",
   "metadata": {},
   "outputs": [
    {
     "name": "stdout",
     "output_type": "stream",
     "text": [
      "{'name': 'John', 'age': 22, 'major': 'Computer science'}\n"
     ]
    }
   ],
   "source": [
    "print(student)"
   ]
  },
  {
   "cell_type": "markdown",
   "id": "a4f4f497-0cb2-4596-8d29-b4ad8b86cdbe",
   "metadata": {},
   "source": [
    "#### The value associated with the key \"age\" is updated from 21 to 22"
   ]
  },
  {
   "cell_type": "markdown",
   "id": "ae6537d4-a943-422f-bf8c-0a40966fa0ea",
   "metadata": {},
   "source": [
    "#### 3. Deleting items from a dictionary\n",
    "#### ~You can delete items from a dictionary using several methods:"
   ]
  },
  {
   "cell_type": "markdown",
   "id": "9b072cbc-8d68-4a42-bd4b-c60c1520b4ae",
   "metadata": {},
   "source": [
    "#### a. Using del:\n",
    "#### You can delete a specific key-value pair with the del keyword.\n",
    "#### Example:"
   ]
  },
  {
   "cell_type": "code",
   "execution_count": 38,
   "id": "7905b335-6ad0-4074-8c6e-6d188cfedd74",
   "metadata": {},
   "outputs": [],
   "source": [
    "# Delete a specific item\n",
    "del student[\"major\"]"
   ]
  },
  {
   "cell_type": "code",
   "execution_count": 39,
   "id": "a512b7f5-b1a0-4172-b8ae-ff72fc17eec1",
   "metadata": {},
   "outputs": [
    {
     "name": "stdout",
     "output_type": "stream",
     "text": [
      "{'name': 'John', 'age': 22}\n"
     ]
    }
   ],
   "source": [
    "print(student)"
   ]
  },
  {
   "cell_type": "markdown",
   "id": "3ae305d7-f0ba-4fec-94ae-4cd52606ea12",
   "metadata": {},
   "source": [
    "#### b. Using pop():\n",
    "#### The pop() method removes a key and returns its value.\n",
    "#### Example:"
   ]
  },
  {
   "cell_type": "code",
   "execution_count": null,
   "id": "502284ab-4eb5-4550-bd7a-7607527cf7a1",
   "metadata": {},
   "outputs": [],
   "source": [
    "# Remove and return the value of the specified key\n",
    "age = student.pop(\"age\")"
   ]
  },
  {
   "cell_type": "code",
   "execution_count": 45,
   "id": "1964eddb-c02e-4d59-b030-6770004393f9",
   "metadata": {},
   "outputs": [
    {
     "name": "stdout",
     "output_type": "stream",
     "text": [
      "22\n"
     ]
    }
   ],
   "source": [
    "print(age)"
   ]
  },
  {
   "cell_type": "code",
   "execution_count": 47,
   "id": "607a23ec-3491-44e6-8cbd-d7326357c794",
   "metadata": {},
   "outputs": [
    {
     "name": "stdout",
     "output_type": "stream",
     "text": [
      "{'name': 'John'}\n"
     ]
    }
   ],
   "source": [
    "print(student)"
   ]
  },
  {
   "cell_type": "markdown",
   "id": "38cdcb3a-c718-4cfd-b843-14eef0bc5303",
   "metadata": {},
   "source": [
    "### 8. Discuss the importance of dictionary keys being immutable and provide examples?"
   ]
  },
  {
   "cell_type": "markdown",
   "id": "7304ebe8-36d6-4c8e-8b70-0922cdd32278",
   "metadata": {},
   "source": [
    "#### Dictionary keys must be immutable in python for several important reasons:"
   ]
  },
  {
   "cell_type": "markdown",
   "id": "bae3ac6f-2bf0-484e-b975-2f8b22dafbf2",
   "metadata": {},
   "source": [
    "#### 1. Hashing requirement\n",
    "#### ~ Dictionaries in python are implemented as hash maps where each key is hashed to a specific memory location for fast lookups."
   ]
  },
  {
   "cell_type": "markdown",
   "id": "2787294a-9b35-43a7-a36a-243dc5562f07",
   "metadata": {},
   "source": [
    "#### 2. Consistency\n",
    "#### ~ If dictionary keys were mutable, changing the key after it's been inserted into thr dictionary would create inconsistencies\n"
   ]
  },
  {
   "cell_type": "markdown",
   "id": "21fb7c2e-a860-40ac-8592-e645422556a4",
   "metadata": {},
   "source": [
    "#### 3. Performance\n",
    "#### ~ Immutable objects like strings and tuples have fixed memory locations, hashing them is more efficient and key lookup remains fast."
   ]
  },
  {
   "cell_type": "markdown",
   "id": "45d7b2c1-f11f-4020-8cef-ea89a92eb8a2",
   "metadata": {},
   "source": [
    "#### Examples of immutable vs mutable objects:\n",
    "#### Immutable objects: strings, numbers (integers, floats),tuples.\n",
    "#### Mutable objects: lists, sets, dictionaries."
   ]
  },
  {
   "cell_type": "markdown",
   "id": "37e459d1-6146-4ada-a7dd-b33c817fb607",
   "metadata": {},
   "source": [
    "#### Example 1: Immutable key(allowed)"
   ]
  },
  {
   "cell_type": "code",
   "execution_count": 54,
   "id": "9dee0719-6853-40a0-b757-9a68a146362c",
   "metadata": {},
   "outputs": [],
   "source": [
    "# Using an immutable string as a key\n",
    "my_dict = {\"name\": \"Abbdeep\", \"age\": 30}"
   ]
  },
  {
   "cell_type": "code",
   "execution_count": 55,
   "id": "311dc953-d67e-4edb-930e-89963c31a73e",
   "metadata": {},
   "outputs": [
    {
     "name": "stdout",
     "output_type": "stream",
     "text": [
      "Abbdeep\n"
     ]
    }
   ],
   "source": [
    "# Accessing a value using the key\n",
    "print(my_dict[\"name\"])"
   ]
  },
  {
   "cell_type": "markdown",
   "id": "aa504123-2189-4b29-8353-023742d1b403",
   "metadata": {},
   "source": [
    "#### \"name\" and \"age\" are strings, which are immutable and can serve as dictionary keys."
   ]
  },
  {
   "cell_type": "markdown",
   "id": "7a854baa-5ebc-405c-b534-e9c95b2493fa",
   "metadata": {},
   "source": [
    "#### Example 2: Mutable key (not allowed)"
   ]
  },
  {
   "cell_type": "code",
   "execution_count": 58,
   "id": "3c00b4e8-1272-4496-9488-16f27b7b89f4",
   "metadata": {},
   "outputs": [
    {
     "ename": "TypeError",
     "evalue": "unhashable type: 'list'",
     "output_type": "error",
     "traceback": [
      "\u001b[0;31m---------------------------------------------------------------------------\u001b[0m",
      "\u001b[0;31mTypeError\u001b[0m                                 Traceback (most recent call last)",
      "Cell \u001b[0;32mIn[58], line 3\u001b[0m\n\u001b[1;32m      1\u001b[0m \u001b[38;5;66;03m# Using a mutable list as a key\u001b[39;00m\n\u001b[1;32m      2\u001b[0m my_list \u001b[38;5;241m=\u001b[39m [\u001b[38;5;241m1\u001b[39m, \u001b[38;5;241m2\u001b[39m, \u001b[38;5;241m3\u001b[39m]\n\u001b[0;32m----> 3\u001b[0m my_list \u001b[38;5;241m=\u001b[39m {my_list: \u001b[38;5;124m\"\u001b[39m\u001b[38;5;124mInvalid\u001b[39m\u001b[38;5;124m\"\u001b[39m}\n",
      "\u001b[0;31mTypeError\u001b[0m: unhashable type: 'list'"
     ]
    }
   ],
   "source": [
    "# Using a mutable list as a key\n",
    "my_list = [1, 2, 3]\n",
    "my_list = {my_list: \"Invalid\"}"
   ]
  },
  {
   "cell_type": "markdown",
   "id": "e541aa47-9d25-4eb2-98c4-e1b6d3f68b09",
   "metadata": {},
   "source": [
    "#### This raises a Typeerror: unhashable type: 'list' as lists are mutable and cannot be used as dictionary keys."
   ]
  },
  {
   "cell_type": "markdown",
   "id": "5ea23665-ef9b-47ac-aae1-0ef821aaa980",
   "metadata": {},
   "source": [
    "#### Example 3: Tuples as keys(immutable compound type)"
   ]
  },
  {
   "cell_type": "code",
   "execution_count": 61,
   "id": "3fbf55d2-4490-44bf-9c37-b07d331db653",
   "metadata": {},
   "outputs": [],
   "source": [
    "# Tuples through compound are immutable and can be used as keys\n",
    "coordinates = (10, 20)\n",
    "location_dict = {coordinates: \"Park\"}"
   ]
  },
  {
   "cell_type": "code",
   "execution_count": 63,
   "id": "adae297d-9487-432b-9c74-674cff5abc97",
   "metadata": {},
   "outputs": [
    {
     "name": "stdout",
     "output_type": "stream",
     "text": [
      "Park\n"
     ]
    }
   ],
   "source": [
    "# Accessing a value using the tuple key\n",
    "print(location_dict[coordinates])"
   ]
  },
  {
   "cell_type": "markdown",
   "id": "fcc36f84-e8db-4ffa-afde-6c8b7add4bea",
   "metadata": {},
   "source": [
    "#### Tuples are immutable they can be used as dictionary keys."
   ]
  },
  {
   "cell_type": "code",
   "execution_count": null,
   "id": "c7376cd4-f2e1-40f3-90fb-7222de2d31ff",
   "metadata": {},
   "outputs": [],
   "source": []
  }
 ],
 "metadata": {
  "kernelspec": {
   "display_name": "Python 3 (ipykernel)",
   "language": "python",
   "name": "python3"
  },
  "language_info": {
   "codemirror_mode": {
    "name": "ipython",
    "version": 3
   },
   "file_extension": ".py",
   "mimetype": "text/x-python",
   "name": "python",
   "nbconvert_exporter": "python",
   "pygments_lexer": "ipython3",
   "version": "3.10.8"
  }
 },
 "nbformat": 4,
 "nbformat_minor": 5
}
